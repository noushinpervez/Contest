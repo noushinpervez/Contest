{
 "cells": [
  {
   "cell_type": "markdown",
   "metadata": {},
   "source": [
    "# CSE110 Assignment 1\n",
    "\n",
    "This assignment is to guide you to solve basic programming problems in Python. Since this is the first assignment, the first problem is solved for you with explanations. Some problems are partially solved to help you. Go through them, try to understand and question each statment of the following questions and codes. If you can understand the problems and the solutions, solving more difficult problems would not seem so difficult. \n",
    "\n",
    "## Write the Python code of the following problems:\n"
   ]
  },
  {
   "cell_type": "markdown",
   "metadata": {},
   "source": [
    "### Task 1\n",
    "\n",
    "Write Python code of a program that reads two numbers from the user, and prints their sum, product, and difference.\n",
    "\n",
    "\n",
    "*hint: Subtract the second number from the first one*\n",
    "\n",
    "For your explanation, the first question's code is done below. Try relating the block of code with the lesson you have learned and understand the significance of each line. You're most welcome to play around with the code. This will strengthen your understanding.\n"
   ]
  },
  {
   "cell_type": "code",
   "execution_count": 1,
   "metadata": {},
   "outputs": [
    {
     "name": "stdout",
     "output_type": "stream",
     "text": [
      "Enter the first number: 13\n",
      "Enter the second number: 7\n",
      "Addition =  20\n",
      "Multiplication =  91\n",
      "Subtraction = -6\n"
     ]
    }
   ],
   "source": [
    "a = int(input(\"Enter the first number: \"))\n",
    "b = int(input(\"Enter the second number: \"))\n",
    "add = a + b\n",
    "mul = a*b\n",
    "sub = b - a\n",
    "print(\"Addition = \", add)\n",
    "print(\"Multiplication = \", mul)\n",
    "print(\"Subtraction =\", sub)"
   ]
  },
  {
   "cell_type": "markdown",
   "metadata": {},
   "source": [
    "### Task 2\n",
    "\n",
    "Write Python code of a program that reads the radius of a circle and prints its circumference and area.\n",
    "\n",
    "*hint: import math and then use math.pi for getting the value of pi. \n",
    "For details read from https://docs.python.org/3/library/math.html*\n",
    "\n"
   ]
  },
  {
   "cell_type": "code",
   "execution_count": 5,
   "metadata": {},
   "outputs": [
    {
     "name": "stdout",
     "output_type": "stream",
     "text": [
      "Enter the radius of a circle: 1\n",
      "Area =  3.141592653589793\n",
      "Circumference =  6.283185307179586\n"
     ]
    }
   ],
   "source": [
    "from math import pi\n",
    "r = int(input(\"Enter the radius of a circle: \"))\n",
    "output1 = pi * r ** 2\n",
    "output2 = 2 * pi * r\n",
    "print (\"Area = \", output1)\n",
    "print (\"Circumference = \",  output2)"
   ]
  },
  {
   "cell_type": "markdown",
   "metadata": {},
   "source": [
    "### Task 3\n",
    "\n",
    "Write Python code of a program that reads two numbers from the user. Your program should then print “First is greater” if the first number is greater, “Second is greater” if the second number is greater, and “The numbers are equal” otherwise."
   ]
  },
  {
   "cell_type": "code",
   "execution_count": 6,
   "metadata": {},
   "outputs": [
    {
     "name": "stdout",
     "output_type": "stream",
     "text": [
      "Enter the first number: 3\n",
      "Enter the second numbr: 9\n",
      "Second is greater\n"
     ]
    }
   ],
   "source": [
    "a = int(input(\"Enter the first number: \"))\n",
    "b = int(input(\"Enter the second number: \"))\n",
    "if a > b:\n",
    "    print(\"First is greater\")\n",
    "elif a < b:\n",
    "    print(\"Second is greater\")\n",
    "else:\n",
    "    print(\"The numbers are equal\")"
   ]
  },
  {
   "cell_type": "markdown",
   "metadata": {},
   "source": [
    "### Task 4\n",
    "\n",
    "Write Python code of a program that reads two numbers, subtracts the smaller number from the larger one, and prints the result.\n",
    "\n",
    "*hint: First check which number is greater*\n"
   ]
  },
  {
   "cell_type": "code",
   "execution_count": 2,
   "metadata": {},
   "outputs": [
    {
     "name": "stdout",
     "output_type": "stream",
     "text": [
      "Enter the first number: 8\n",
      "Enter the second number: 9\n",
      "Result:  1\n"
     ]
    }
   ],
   "source": [
    "a = int(input(\"Enter the first number: \"))\n",
    "b = int(input(\"Enter the second number: \"))\n",
    "if a > b:\n",
    "    print(\"Result: \", a - b)\n",
    "else:\n",
    "    print(\"Result: \", b - a)"
   ]
  },
  {
   "cell_type": "markdown",
   "metadata": {},
   "source": [
    "### Task 5\n",
    "\n",
    "Write Python code of a program that reads a number, and prints “The number is even” or “The number is odd”, depending on whether the number is even or odd. \n",
    "\n",
    "*hint: use the modulus (%) operator*\n"
   ]
  },
  {
   "cell_type": "code",
   "execution_count": 5,
   "metadata": {},
   "outputs": [
    {
     "name": "stdout",
     "output_type": "stream",
     "text": [
      "Enter the number: 7\n",
      "The number is odd\n"
     ]
    }
   ],
   "source": [
    "a = int(input(\"Enter the number: \"))\n",
    "result = a % 2\n",
    "if result == 0:\n",
    "    print(\"The number is even\")\n",
    "else:\n",
    "    print(\"The number is odd\")"
   ]
  },
  {
   "cell_type": "markdown",
   "metadata": {},
   "source": [
    "### Task 6\n",
    "\n",
    "Write Python code of a program that reads an integer, and prints the integer if it is a multiple of **either 2 or 5.**\n",
    "\n",
    "For example, 2, 4, 5, 6, 8, 10, 12, 14, 15, 16, 18, 20, 22 …\n",
    "\n"
   ]
  },
  {
   "cell_type": "code",
   "execution_count": 2,
   "metadata": {},
   "outputs": [
    {
     "name": "stdout",
     "output_type": "stream",
     "text": [
      "Enter any number: 15\n",
      "15 is not a multiple of 2\n",
      "15 is a multiple of 5\n",
      "15 is not a multiple of both 2 and 5\n"
     ]
    }
   ],
   "source": [
    "a = int(input(\"Enter any number: \"))\n",
    "x = a % 2\n",
    "y = a % 5\n",
    "if x == 0:\n",
    "    print(a, 'is a multiple of 2')\n",
    "else:\n",
    "    print(a, 'is not a multiple of 2')\n",
    "if y ==0 :\n",
    "    print(a, 'is a multiple of 5')\n",
    "else:\n",
    "    print(a, 'is not a multiple of 5')\n",
    "    \n",
    "if (x == 0 and y == 0):\n",
    "    print(a, 'is a multiple of both 2 and 5')\n",
    "else:\n",
    "    print(a, 'is not a multiple of both 2 and 5')"
   ]
  },
  {
   "cell_type": "markdown",
   "metadata": {},
   "source": [
    "### Task 7\n",
    "Write Python code of a program that reads an integer, and prints the integer  it is a multiple of **either 2 or 5 but not both.** \n",
    "\n",
    "For example, 2, 4, 5, 6, 8, 12, 14, 15, 16, 18, 22 …\n"
   ]
  },
  {
   "cell_type": "code",
   "execution_count": 4,
   "metadata": {},
   "outputs": [
    {
     "name": "stdout",
     "output_type": "stream",
     "text": [
      "Enter any number: 4\n",
      "4 is a multiple of 2\n",
      "4 is not a multiple of 5\n"
     ]
    }
   ],
   "source": [
    "a = int(input(\"Enter any number: \"))\n",
    "x = a % 2\n",
    "y = a % 5\n",
    "if (x == 0):\n",
    "    print(a, 'is a multiple of 2')\n",
    "else:\n",
    "    print(a, 'is not a multiple of 2')\n",
    "if (y == 0):\n",
    "    print(a, 'is a multiple of 5')\n",
    "else:\n",
    "    print(a, 'is not a multiple of 5')\n",
    "\n",
    "if (x != 0 and y != 0):\n",
    "    print(a, 'is not a multiple of both 2 and 5')"
   ]
  },
  {
   "cell_type": "markdown",
   "metadata": {},
   "source": [
    "### Task 8\n",
    "Write Python code of a program that reads an integer, and prints the integer if it is a multiple of **2 and 5.**\n",
    "\n",
    "For example, 10, 20, 30, 40, 50 …\n",
    "\n"
   ]
  },
  {
   "cell_type": "code",
   "execution_count": 5,
   "metadata": {},
   "outputs": [
    {
     "name": "stdout",
     "output_type": "stream",
     "text": [
      "Enter any number: 12\n",
      "12 is not a multiple of 2 and 5\n"
     ]
    }
   ],
   "source": [
    "a = int(input(\"Enter any number: \"))\n",
    "x = a % 2\n",
    "y = a % 5\n",
    "if (x == 0 and y == 0):\n",
    "    print(a, \"is a multiple of 2 and 5\")\n",
    "else:\n",
    "    print(a,\"is not a multiple of 2 and 5\")"
   ]
  },
  {
   "cell_type": "markdown",
   "metadata": {},
   "source": [
    "### Task 9\n",
    "\n",
    "\n",
    "Write Python code of a program that reads an integer, and prints the integer if it is a multiple of **NEITHER 2 NOR 5.** \n",
    "\n",
    "For example, 1, 3, 7, 9, 11, 13, 17, 19, 21, 23, 27, 29, 31, 33, 37, 39 …\n"
   ]
  },
  {
   "cell_type": "code",
   "execution_count": 7,
   "metadata": {},
   "outputs": [
    {
     "name": "stdout",
     "output_type": "stream",
     "text": [
      "Enter any number: 2\n",
      "2 is not a multiple of 5\n"
     ]
    }
   ],
   "source": [
    "a = int(input(\"Enter any number: \"))\n",
    "x = a % 2\n",
    "y = a % 5\n",
    "if (x != 0):\n",
    "    print(a, 'is not a multiple of 2')\n",
    "if (y != 0):\n",
    "    print(a, 'is not a multiple of 5')\n",
    "if (x != 0 and y != 0):\n",
    "    print(a, 'is not a multiple of both 2 and 5')"
   ]
  },
  {
   "cell_type": "markdown",
   "metadata": {},
   "source": [
    "### Task 10\n",
    "\n",
    "Write Python code of a program that reads an integer, and prints the integer if it is NOT a multiple of **2 OR NOT a multiple of 5.**\n",
    "\n",
    "For example, 1, 2, 3, 4, 5, 6, 7, 8, 9, 11, 12, 13, 14, 15, 16, 17, 18, 19, 21, 22\n"
   ]
  },
  {
   "cell_type": "code",
   "execution_count": 9,
   "metadata": {},
   "outputs": [
    {
     "name": "stdout",
     "output_type": "stream",
     "text": [
      "Enter any number: 8\n",
      "8 is not a multiple of 5\n"
     ]
    }
   ],
   "source": [
    "a = int(input(\"Enter any number: \"))\n",
    "x = a % 2\n",
    "y = a % 5\n",
    "if x != 0:\n",
    "    print(a, \"is not a multiple of 2\")\n",
    "elif y != 0:\n",
    "    print(a, \"is not a multiple of 5\")"
   ]
  },
  {
   "cell_type": "markdown",
   "metadata": {},
   "source": [
    "##### Task 11\n",
    "\n",
    "Write Python code of a program that reads a student’s mark for a single subject, and prints out the corresponding grade for that mark. The mark ranges and corresponding grades are shown in the table below.\n",
    "\n",
    "*hint: This problem can be solved in two ways: top-down (starts from A) and bottom-up (starts from F)*\n",
    "\n",
    "\n",
    "| Marks | Grage|\n",
    "| --- | --- | \n",
    "|90 or above| A |\n",
    "|  |  | \n",
    "|80-89| B |\n",
    "|  |  | \n",
    "|70-79| C |\n",
    "|  |  | \n",
    "|60-69| D |\n",
    "|  |  | \n",
    "|50-59| E |\n",
    "|  |  | \n",
    "|Below 50| F |\n",
    "\n",
    "\n",
    "\n",
    "\n",
    "\n"
   ]
  },
  {
   "cell_type": "code",
   "execution_count": null,
   "metadata": {},
   "outputs": [],
   "source": [
    "num = int(input(\"Enter the student's mark: \"))\n",
    "if num >= 90:\n",
    "    print(\"A\")\n",
    "elif num >= 80 and num <= 89:\n",
    "    print(\"B\")\n",
    "elif num >= 70 and num <= 79:\n",
    "    print(\"C\")\n",
    "elif num >= 60 and num <= 69:\n",
    "    print(\"D\")\n",
    "elif num >= 50 and num <= 59:\n",
    "    print(\"E\")\n",
    "else:\n",
    "    print(\"F\")"
   ]
  },
  {
   "cell_type": "markdown",
   "metadata": {},
   "source": [
    "### Task 12\n",
    "\n",
    "Write Python code of a program to compute and display a person’s weekly salary as determined by the following conditions:\n",
    "If the hours worked are less than or equal to 40, the person receives Tk200.00 per hour, else the person receives Tk8000.00 plus Tk300.00 for each hour worked over 40 hours.\n",
    "The program should request the hours worked as input and should display the salary as output.\n",
    "\n",
    "**example1:**\\\n",
    "Input: 100\\\n",
    "Output: 26000\n",
    "\n",
    "**example2:**\\\n",
    "Input: 30\\\n",
    "Output: 6000\n"
   ]
  },
  {
   "cell_type": "code",
   "execution_count": 24,
   "metadata": {},
   "outputs": [
    {
     "name": "stdout",
     "output_type": "stream",
     "text": [
      "Input: 30\n",
      "Output:  6000.0\n"
     ]
    }
   ],
   "source": [
    "a = int(input(\"Input: \"))\n",
    "if a <= 40:\n",
    "    print(\"Output: \", a * 200.00)\n",
    "else:\n",
    "    print(\"Output: \", 8000.00 + (a - 40) * 300.00)"
   ]
  },
  {
   "cell_type": "markdown",
   "metadata": {},
   "source": [
    "### Task 13\n",
    "Write Python code of a program that finds the number of hours, minutes, and seconds in a **given number of seconds.** \n",
    "\n",
    "**Example:**\\\n",
    "Input: 10000 seconds\\\n",
    "Output: 2 Hours 46 minutes, 40 seconds\n",
    "\n",
    "*hints: 1 hour = 60 mins = 3600 seconds*\\\n",
    "*1min = 60 seconds* \n",
    "\n",
    "\n",
    "\n",
    "\n"
   ]
  },
  {
   "cell_type": "code",
   "execution_count": 20,
   "metadata": {},
   "outputs": [
    {
     "name": "stdout",
     "output_type": "stream",
     "text": [
      "Input: 10000\n",
      "Output:  2 Hours 46 minutes 40 seconds\n"
     ]
    }
   ],
   "source": [
    "a = int(input(\"Input: \"))\n",
    "h = a // 3600\n",
    "m = (a - h* 60 * 60) // 60\n",
    "s = a - (h * 60 * 60) - (m * 60)\n",
    "print(\"Output: \", h, \"Hours\", m, \"minutes\", s, \"seconds\")"
   ]
  },
  {
   "cell_type": "markdown",
   "metadata": {},
   "source": [
    "### Task 14\n",
    "Suppose the following expressions are used to calculate the values of L for different values of S:\n",
    "\n",
    "$L =  3000-125S^2$ \n",
    "if     $S<100$\n",
    "\n",
    "$ c =  \\frac{12000}{4+S^2/14900}$\n",
    "if     $S\\geq100$\n",
    "\n",
    "Write a Python code of a program that reads a value of S and then calculates the value of L.\\\n",
    "\n",
    "For example:\\\n",
    "If S=3, L= 1875.\\\n",
    "If S=120, L= 2416.2162162162163\\\n",
    "\n",
    "\n",
    "*hints: You can import math and use math function for making squares math.pow(number, power)   Or you can simply write S**2.*"
   ]
  },
  {
   "cell_type": "code",
   "execution_count": 8,
   "metadata": {},
   "outputs": [
    {
     "name": "stdout",
     "output_type": "stream",
     "text": [
      "Enter S: 120\n",
      "L =  2416.2162162162163\n"
     ]
    }
   ],
   "source": [
    "S = int(input(\"Enter S: \"))\n",
    "if S < 100:\n",
    "    L = 3000 - 125 * S ** 2\n",
    "    print(\"L = \", L)\n",
    "if S >= 100:\n",
    "    c = 12000 /(4+S**2/14900)\n",
    "    print(\"L = \", c)"
   ]
  },
  {
   "cell_type": "markdown",
   "metadata": {},
   "source": [
    "### Task 15\n",
    "\n",
    "Take an hour from the user as input and tell it is time for which meal.\n",
    "\n",
    "•\tThe user will input the number in a 24-hour format. So, 14 means 2 pm, 3 means 3 am, 18 means 6 pm, etc.\\\n",
    "•\tValid inputs are 0 to 23. Inputs less than 0 or more than 23 are invalid in 24-hour clock.\\\n",
    "•\tAssume, Input will be whole numbers. For example, 3.5 will NOT be given as input.\n",
    "\n",
    "Inputs: Message to be printed\\\n",
    "4 to 6: Breakfast\\\n",
    "12 to 13: Lunch\\\n",
    "16 to 17: Snacks\\\n",
    "19 to 20: Dinner\\\n",
    "For all other valid inputs, say \"Patience is a virtue\"\\\n",
    "For all other invalid inputs, say \"Wrong time\"\n",
    "\n",
    "For example,\\\n",
    "If the user enters 4, your program should print the message \"Breakfast\".\\\n",
    "If the user enters 5, your program should print the message \"Breakfast\".\\\n",
    "If the user enters 6, your program should print the message \"Breakfast\".\\\n",
    "If the user enters 0, your program should print the message \"Patience is a virtue\".\\\n",
    "If the user enters 1, your program should print the message \"Patience is a virtue\".\\\n",
    "If the user enters 18, your program should print the message \"Patience is a virtue\".\\\n",
    "If the user enters 23, your program should print the message \"Patience is a virtue\".\\\n",
    "If the user enters 24, your program should print the message \"Wrong Time\".\\\n",
    "If the user enters -1, your program should print the message \"Wrong Time\".\\\n",
    "If the user enters 27, your program should print the message \"Wrong time\".\n",
    "\n",
    "Hints:\\\n",
    "You can use nested conditionals (if-else) or chained conditions (if-elif-else) to solve this problem.\n",
    "\n"
   ]
  },
  {
   "cell_type": "code",
   "execution_count": 22,
   "metadata": {},
   "outputs": [
    {
     "name": "stdout",
     "output_type": "stream",
     "text": [
      "Enter the number in a 24-hour format: 27\n",
      "Wrong Time\n"
     ]
    }
   ],
   "source": [
    "a = int(input(\"Enter the number in a 24-hour format: \"))\n",
    "if a>=4 and a<=6:\n",
    "    print(\"Breakfast\")\n",
    "elif a>=12 and a<=13:\n",
    "    print(\"Lunch\")\n",
    "elif a>=16 and a<=17:\n",
    "    print(\"Snacks\")\n",
    "elif a>=19 and a<=20:\n",
    "    print(\"Dinner\")\n",
    "elif a<0 or a>23:\n",
    "    print(\"Wrong Time\")\n",
    "else:\n",
    "    print(\"Patience is a virtue\")"
   ]
  },
  {
   "cell_type": "code",
   "execution_count": null,
   "metadata": {},
   "outputs": [],
   "source": []
  }
 ],
 "metadata": {
  "kernelspec": {
   "display_name": "Python 3",
   "language": "python",
   "name": "python3"
  },
  "language_info": {
   "codemirror_mode": {
    "name": "ipython",
    "version": 3
   },
   "file_extension": ".py",
   "mimetype": "text/x-python",
   "name": "python",
   "nbconvert_exporter": "python",
   "pygments_lexer": "ipython3",
   "version": "3.8.5"
  }
 },
 "nbformat": 4,
 "nbformat_minor": 4
}
